{
 "cells": [
  {
   "cell_type": "code",
   "execution_count": 46,
   "metadata": {},
   "outputs": [
    {
     "name": "stdout",
     "output_type": "stream",
     "text": [
      "Please enter a string MISSISSIPPI\n",
      "I  =  4\n",
      "S  =  4\n",
      "P  =  2\n",
      "M  =  1\n"
     ]
    }
   ],
   "source": [
    "import operator\n",
    "\n",
    "word = input(\"Please enter a string \")\n",
    "d = most_frequent(word)\n",
    "\n",
    "sort = dict(sorted(d.items(), key=operator.itemgetter(1),reverse=True))\n",
    "\n",
    "for k in sort:\n",
    "    print(k, \" = \", sort[k])\n",
    "\n",
    "def most_frequent(word):\n",
    "    a = dict()\n",
    "    for i in word:\n",
    "        if(i in a):\n",
    "            a[i] = a[i] + 1\n",
    "        else:\n",
    "            a[i] = 1\n",
    "    return a \n"
   ]
  },
  {
   "cell_type": "code",
   "execution_count": 48,
   "metadata": {},
   "outputs": [
    {
     "name": "stdout",
     "output_type": "stream",
     "text": [
      "Please enter a string CHURCH\n",
      "C  =  2\n",
      "H  =  2\n",
      "U  =  1\n",
      "R  =  1\n"
     ]
    }
   ],
   "source": [
    "import operator\n",
    "\n",
    "word = input(\"Please enter a string \")\n",
    "d = most_frequent(word)\n",
    "\n",
    "sort = dict(sorted(d.items(), key=operator.itemgetter(1),reverse=True))\n",
    "\n",
    "for k in sort:\n",
    "    print(k, \" = \", sort[k])\n",
    "\n",
    "def most_frequent(word):\n",
    "    a = dict()\n",
    "    for i in word:\n",
    "        if(i in a):\n",
    "            a[i] = a[i] + 1\n",
    "        else:\n",
    "            a[i] = 1\n",
    "    return a \n"
   ]
  },
  {
   "cell_type": "code",
   "execution_count": null,
   "metadata": {},
   "outputs": [],
   "source": []
  }
 ],
 "metadata": {
  "kernelspec": {
   "display_name": "Python 3",
   "language": "python",
   "name": "python3"
  },
  "language_info": {
   "codemirror_mode": {
    "name": "ipython",
    "version": 3
   },
   "file_extension": ".py",
   "mimetype": "text/x-python",
   "name": "python",
   "nbconvert_exporter": "python",
   "pygments_lexer": "ipython3",
   "version": "3.7.6"
  }
 },
 "nbformat": 4,
 "nbformat_minor": 4
}
